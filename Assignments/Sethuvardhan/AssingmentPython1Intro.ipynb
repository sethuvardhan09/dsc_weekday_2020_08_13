{
 "cells": [
  {
   "cell_type": "markdown",
   "metadata": {},
   "source": [
    "# Assignment Python Introduction - 1\n",
    "# WAP assignments"
   ]
  },
  {
   "cell_type": "markdown",
   "metadata": {},
   "source": [
    "* WAP to input a string and print its length"
   ]
  },
  {
   "cell_type": "code",
   "execution_count": 3,
   "metadata": {},
   "outputs": [
    {
     "name": "stdout",
     "output_type": "stream",
     "text": [
      "Enter a string : Test\n",
      "4\n"
     ]
    }
   ],
   "source": [
    "st = input(\"Enter a string : \")\n",
    "print(len(st))"
   ]
  },
  {
   "cell_type": "markdown",
   "metadata": {},
   "source": [
    "* WAP to input 2 numbers and print their sum and difference."
   ]
  },
  {
   "cell_type": "code",
   "execution_count": 5,
   "metadata": {},
   "outputs": [
    {
     "name": "stdout",
     "output_type": "stream",
     "text": [
      "Enter a number : 45\n",
      "Enter another number : 23\n",
      "Sum = 68 \n",
      "Difference = 22\n"
     ]
    }
   ],
   "source": [
    "a = int(input(\"Enter a number : \"))\n",
    "b = int(input(\"Enter another number : \"))\n",
    "print(\"Sum = {} \\nDifference = {}\".format(a+b,a-b))"
   ]
  },
  {
   "cell_type": "markdown",
   "metadata": {},
   "source": [
    "* WAP to input a string s and a number n. Print the string n times on the screen, each should appear in a separate line (do not use any kind of loops, use the multiplication operator)"
   ]
  },
  {
   "cell_type": "code",
   "execution_count": 12,
   "metadata": {},
   "outputs": [
    {
     "name": "stdout",
     "output_type": "stream",
     "text": [
      "Enter a string : test\n",
      "Enter the number of times to print the string : 4\n",
      "test\n",
      "test\n",
      "test\n",
      "test\n",
      "\n"
     ]
    }
   ],
   "source": [
    "s = input(\"Enter a string : \")\n",
    "n = int(input(\"Enter the number of times to print the string : \"))\n",
    "print((s+'\\n')*n,sep = '\\n')"
   ]
  },
  {
   "cell_type": "markdown",
   "metadata": {},
   "source": [
    "*  WAP to input a number and print its square root (). "
   ]
  },
  {
   "cell_type": "code",
   "execution_count": 13,
   "metadata": {},
   "outputs": [
    {
     "name": "stdout",
     "output_type": "stream",
     "text": [
      "Enter a number to find its square root : 12\n",
      "The square root of 12 is 3.4641016151377544\n"
     ]
    }
   ],
   "source": [
    "import math\n",
    "num = int(input(\"Enter a number to find its square root : \"))\n",
    "print(\"The square root of {} is {}\".format(num,math.sqrt(num)))\n"
   ]
  },
  {
   "cell_type": "markdown",
   "metadata": {},
   "source": [
    "* WAP to input 4 numbers from user and print their average "
   ]
  },
  {
   "cell_type": "code",
   "execution_count": 17,
   "metadata": {},
   "outputs": [
    {
     "name": "stdout",
     "output_type": "stream",
     "text": [
      "Enter a numbers : 2\n",
      "Enter a numbers : 3\n",
      "Enter a numbers : 4\n",
      "Enter a numbers : 5\n",
      "The average of 2,3,4,5 is 3.5\n"
     ]
    }
   ],
   "source": [
    "a = int(input(\"Enter a numbers : \"))\n",
    "b = int(input(\"Enter a numbers : \"))\n",
    "c = int(input(\"Enter a numbers : \"))\n",
    "d = int(input(\"Enter a numbers : \"))\n",
    "print(\"The average of {},{},{},{} is {}\".format(a,b,c,d,(a+b+c+d)/4))"
   ]
  },
  {
   "cell_type": "markdown",
   "metadata": {},
   "source": [
    "* Input temperature in Fahrenheit in print in Celsius\n",
    " `(X°F − 32) × 5/9 = Y°C`"
   ]
  },
  {
   "cell_type": "code",
   "execution_count": 34,
   "metadata": {},
   "outputs": [
    {
     "name": "stdout",
     "output_type": "stream",
     "text": [
      "Enter temperature in Fahrenheit : 45\n",
      "45.0 Fahrenheit = 7.222222222222222 Celsius\n"
     ]
    }
   ],
   "source": [
    "fah = float(input(\"Enter temperature in Fahrenheit : \"))\n",
    "cel = (fah - 32) * (5/9)\n",
    "print(\"{} Fahrenheit = {} Celsius\".format(fah,cel))"
   ]
  },
  {
   "cell_type": "markdown",
   "metadata": {},
   "source": [
    "* Write a program to input a number and print its square and cube."
   ]
  },
  {
   "cell_type": "code",
   "execution_count": 37,
   "metadata": {},
   "outputs": [
    {
     "name": "stdout",
     "output_type": "stream",
     "text": [
      "Enter the number : 4\n",
      "Square of a number : 16\n",
      "Cube of a number : 64\n"
     ]
    }
   ],
   "source": [
    "num = int(input('Enter the number : '))\n",
    "print(\"Square of a number : {}\".format(pow(num,2)))\n",
    "print(\"Cube of a number : {}\".format(pow(num,3)))"
   ]
  },
  {
   "cell_type": "markdown",
   "metadata": {},
   "source": [
    "* WAP to input a number n and a number m and print the result of following  n**2 + m**2 \n"
   ]
  },
  {
   "cell_type": "code",
   "execution_count": 39,
   "metadata": {},
   "outputs": [
    {
     "name": "stdout",
     "output_type": "stream",
     "text": [
      "Enter a number : 2\n",
      "Enter another number : 3\n",
      "Result : 13\n"
     ]
    }
   ],
   "source": [
    "n = int(input('Enter a number : '))\n",
    "m = int(input('Enter another number : '))\n",
    "print('Result : '+str(pow(n,2)+pow(m,2)))"
   ]
  },
  {
   "cell_type": "markdown",
   "metadata": {},
   "source": [
    "*  WAP to input a numbers M and N and print result of MN. (use both ** and pow) "
   ]
  },
  {
   "cell_type": "code",
   "execution_count": 40,
   "metadata": {},
   "outputs": [
    {
     "name": "stdout",
     "output_type": "stream",
     "text": [
      "Enter a number : 2\n",
      "Enter another number : 3\n",
      "Result using pow : 8\n",
      "Result using ** : 8\n"
     ]
    }
   ],
   "source": [
    "n = int(input('Enter a number : '))\n",
    "m = int(input('Enter another number : '))\n",
    "print('Result using pow : '+str(pow(n,m)))\n",
    "print('Result using ** : '+str(n**m))\n"
   ]
  },
  {
   "cell_type": "markdown",
   "metadata": {},
   "source": [
    "* Write a simple interest calculator."
   ]
  },
  {
   "cell_type": "code",
   "execution_count": 42,
   "metadata": {},
   "outputs": [
    {
     "name": "stdout",
     "output_type": "stream",
     "text": [
      "Enter principal amount : 1000\n",
      "Enter time period(in yrs) : 2\n",
      "Enter rate of interest (in pa): 2\n",
      "Simple interest amount is 40.0\n"
     ]
    }
   ],
   "source": [
    "p = float(input(\"Enter principal amount : \"))\n",
    "t = float(input(\"Enter time period(in yrs) : \"))\n",
    "r = float(input(\"Enter rate of interest (in pa): \"))\n",
    "print('Simple interest amount is {}'.format(p*t*r/100))"
   ]
  },
  {
   "cell_type": "markdown",
   "metadata": {},
   "source": [
    "* Input Principal, Rate, Time and print Compound Interest and Amount\n",
    "`A = P(1 + r)t` Assuming compounded yearly"
   ]
  },
  {
   "cell_type": "code",
   "execution_count": 49,
   "metadata": {},
   "outputs": [
    {
     "name": "stdout",
     "output_type": "stream",
     "text": [
      "Enter principal amount : 1000\n",
      "Enter time period(in yrs) : 7\n",
      "Enter rate of interest (in pa): 4\n",
      "Compund interest amount is 315.93177923584017\n"
     ]
    }
   ],
   "source": [
    "p = float(input(\"Enter principal amount : \"))\n",
    "t = float(input(\"Enter time period(in yrs) : \"))\n",
    "r = float(input(\"Enter rate of interest (in pa): \"))\n",
    "a = p*pow(1+(r/100),t)\n",
    "print('Compund interest amount is {}'.format(a-p))"
   ]
  },
  {
   "cell_type": "markdown",
   "metadata": {},
   "source": [
    "* WAP to print sum of first n natural numbers `n(n+1) / 2`"
   ]
  },
  {
   "cell_type": "code",
   "execution_count": 51,
   "metadata": {},
   "outputs": [
    {
     "name": "stdout",
     "output_type": "stream",
     "text": [
      "Enter a natural number : 3\n",
      "Sum of first N natural numbers : 6.0\n"
     ]
    }
   ],
   "source": [
    "n = int(input('Enter a natural number : '))\n",
    "print('Sum of first N natural numbers : {}'.format(n*(n+1)/2))"
   ]
  },
  {
   "cell_type": "markdown",
   "metadata": {},
   "source": [
    "* WAP to input 2 numbers and swap them. (write using both normal logic with temp variable and also the pythonic way). "
   ]
  },
  {
   "cell_type": "code",
   "execution_count": 54,
   "metadata": {},
   "outputs": [
    {
     "name": "stdout",
     "output_type": "stream",
     "text": [
      "Enter a number : 12\n",
      "Enter a number : 34\n",
      "Before : t1: 12, t2: 34\n",
      "After : t1: 34, t2: 12\n",
      "Enter a number : 55\n",
      "Enter a number : 67\n",
      "Before : t1: 55, t2: 67\n",
      "After : t1: 67, t2: 55\n"
     ]
    }
   ],
   "source": [
    "# with temp variable\n",
    "t1 = int(input('Enter a number : '))\n",
    "t2 = int(input('Enter a number : '))\n",
    "print('Before : t1: {}, t2: {}'.format(t1,t2))\n",
    "temp = t1\n",
    "t1 = t2\n",
    "t2 = temp\n",
    "print('After : t1: {}, t2: {}'.format(t1,t2))\n",
    "\n",
    "#pythonic way\n",
    "t1 = int(input('Enter a number : '))\n",
    "t2 = int(input('Enter a number : '))\n",
    "print('Before : t1: {}, t2: {}'.format(t1,t2))\n",
    "t2,t1 = t1,t2\n",
    "print('After : t1: {}, t2: {}'.format(t1,t2))\n",
    "\n"
   ]
  },
  {
   "cell_type": "markdown",
   "metadata": {},
   "source": [
    "* WAP to print ascii value of all white-space characters present in python."
   ]
  },
  {
   "cell_type": "code",
   "execution_count": 59,
   "metadata": {},
   "outputs": [
    {
     "name": "stdout",
     "output_type": "stream",
     "text": [
      "' \\t\\n\\r\\x0b\\x0c'\n"
     ]
    }
   ],
   "source": [
    "import string\n",
    "print(repr(string.whitespace))"
   ]
  },
  {
   "cell_type": "markdown",
   "metadata": {},
   "source": [
    "* Input a single character and print its ascii values. "
   ]
  },
  {
   "cell_type": "code",
   "execution_count": 61,
   "metadata": {},
   "outputs": [
    {
     "name": "stdout",
     "output_type": "stream",
     "text": [
      "Enter a character : e\n",
      "ASCII value of e is 101\n"
     ]
    }
   ],
   "source": [
    "ch = input('Enter a character : ')\n",
    "print('ASCII value of {} is {}'.format(ch,ord(ch)))"
   ]
  },
  {
   "cell_type": "markdown",
   "metadata": {},
   "source": [
    "*  WAP that takes area of a circle and gives back the radius and circumference"
   ]
  },
  {
   "cell_type": "code",
   "execution_count": 65,
   "metadata": {},
   "outputs": [
    {
     "name": "stdout",
     "output_type": "stream",
     "text": [
      "Enter area of a circle : 334\n",
      "Radius : 10.31094088749354 \t Circumference : 64.78555228749666\n"
     ]
    }
   ],
   "source": [
    "import math\n",
    "area = float(input('Enter area of a circle : '))\n",
    "radius = math.sqrt(area/math.pi)\n",
    "circumference = 2 * math.pi * radius\n",
    "print('Radius : {} \\t Circumference : {}'.format(radius,circumference))"
   ]
  },
  {
   "cell_type": "markdown",
   "metadata": {},
   "source": [
    "* We need to input marks in 5 subjects out of 100 and print percentage."
   ]
  },
  {
   "cell_type": "code",
   "execution_count": 67,
   "metadata": {},
   "outputs": [
    {
     "name": "stdout",
     "output_type": "stream",
     "text": [
      "Enter marks 1 : 12\n",
      "Enter marks 2 : 34\n",
      "Enter marks 3 : 67\n",
      "Enter marks 4 : 89\n",
      "Enter marks 5 : 77\n",
      "Average marks : 55.8\n"
     ]
    }
   ],
   "source": [
    "mark1 = int(input(\"Enter marks 1 : \"))\n",
    "mark2 = int(input(\"Enter marks 2 : \"))\n",
    "mark3 = int(input(\"Enter marks 3 : \"))\n",
    "mark4 = int(input(\"Enter marks 4 : \"))\n",
    "mark5 = int(input(\"Enter marks 5 : \"))\n",
    "print(\"Average marks : {}\".format(((mark1+mark2+mark3+mark4+mark5)/5)))"
   ]
  },
  {
   "cell_type": "markdown",
   "metadata": {},
   "source": [
    "* Use the help function to check what the abs function in python does"
   ]
  },
  {
   "cell_type": "code",
   "execution_count": 18,
   "metadata": {},
   "outputs": [
    {
     "name": "stdout",
     "output_type": "stream",
     "text": [
      "Help on built-in function abs in module builtins:\n",
      "\n",
      "abs(x, /)\n",
      "    Return the absolute value of the argument.\n",
      "\n"
     ]
    }
   ],
   "source": [
    "help(abs)"
   ]
  },
  {
   "cell_type": "markdown",
   "metadata": {},
   "source": [
    "# Predict the output "
   ]
  },
  {
   "cell_type": "code",
   "execution_count": 22,
   "metadata": {},
   "outputs": [
    {
     "name": "stdout",
     "output_type": "stream",
     "text": [
      "builtins\n"
     ]
    }
   ],
   "source": [
    "print(__builtins__.__name__)"
   ]
  },
  {
   "cell_type": "code",
   "execution_count": 23,
   "metadata": {},
   "outputs": [
    {
     "name": "stdout",
     "output_type": "stream",
     "text": [
      "__main__\n"
     ]
    }
   ],
   "source": [
    "print(__name__)"
   ]
  },
  {
   "cell_type": "code",
   "execution_count": 24,
   "metadata": {},
   "outputs": [
    {
     "name": "stdout",
     "output_type": "stream",
     "text": [
      "int\n"
     ]
    }
   ],
   "source": [
    "print(int.__name__)"
   ]
  },
  {
   "cell_type": "code",
   "execution_count": 25,
   "metadata": {},
   "outputs": [
    {
     "name": "stdout",
     "output_type": "stream",
     "text": [
      "<class 'str'>\n",
      "10\n"
     ]
    }
   ],
   "source": [
    "s1 = \"Test\"\n",
    "s2 = \"test2\"\n",
    "s3 = s1 + '\\n' + s2\n",
    "print(type(s3))\n",
    "print(len(s3))"
   ]
  },
  {
   "cell_type": "code",
   "execution_count": 27,
   "metadata": {},
   "outputs": [
    {
     "name": "stdout",
     "output_type": "stream",
     "text": [
      "<class 'int'>\n"
     ]
    }
   ],
   "source": [
    "res = len(s1)\n",
    "print(type(res))"
   ]
  },
  {
   "cell_type": "code",
   "execution_count": 28,
   "metadata": {},
   "outputs": [
    {
     "name": "stdout",
     "output_type": "stream",
     "text": [
      "test\n",
      "None <class 'NoneType'>\n"
     ]
    }
   ],
   "source": [
    "res = print(\"test\")\n",
    "print(res,type(res))"
   ]
  },
  {
   "cell_type": "code",
   "execution_count": null,
   "metadata": {},
   "outputs": [],
   "source": []
  }
 ],
 "metadata": {
  "kernelspec": {
   "display_name": "Python 3",
   "language": "python",
   "name": "python3"
  },
  "language_info": {
   "codemirror_mode": {
    "name": "ipython",
    "version": 3
   },
   "file_extension": ".py",
   "mimetype": "text/x-python",
   "name": "python",
   "nbconvert_exporter": "python",
   "pygments_lexer": "ipython3",
   "version": "3.7.0"
  }
 },
 "nbformat": 4,
 "nbformat_minor": 2
}
